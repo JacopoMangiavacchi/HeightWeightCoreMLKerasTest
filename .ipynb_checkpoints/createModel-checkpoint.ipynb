{
 "cells": [
  {
   "cell_type": "markdown",
   "metadata": {},
   "source": [
    "# Linear Regression"
   ]
  },
  {
   "cell_type": "code",
   "execution_count": 20,
   "metadata": {
    "collapsed": true
   },
   "outputs": [],
   "source": [
    "%matplotlib inline\n",
    "import matplotlib.pyplot as plt\n",
    "import pandas as pd\n",
    "import numpy as np"
   ]
  },
  {
   "cell_type": "code",
   "execution_count": 21,
   "metadata": {
    "collapsed": true
   },
   "outputs": [],
   "source": [
    "df = pd.read_csv('weight-height.csv')"
   ]
  },
  {
   "cell_type": "code",
   "execution_count": 22,
   "metadata": {},
   "outputs": [
    {
     "data": {
      "text/html": [
       "<div>\n",
       "<table border=\"1\" class=\"dataframe\">\n",
       "  <thead>\n",
       "    <tr style=\"text-align: right;\">\n",
       "      <th></th>\n",
       "      <th>Gender</th>\n",
       "      <th>Height</th>\n",
       "      <th>Weight</th>\n",
       "    </tr>\n",
       "  </thead>\n",
       "  <tbody>\n",
       "    <tr>\n",
       "      <th>0</th>\n",
       "      <td>Male</td>\n",
       "      <td>73.847017</td>\n",
       "      <td>241.893563</td>\n",
       "    </tr>\n",
       "    <tr>\n",
       "      <th>1</th>\n",
       "      <td>Male</td>\n",
       "      <td>68.781904</td>\n",
       "      <td>162.310473</td>\n",
       "    </tr>\n",
       "    <tr>\n",
       "      <th>2</th>\n",
       "      <td>Male</td>\n",
       "      <td>74.110105</td>\n",
       "      <td>212.740856</td>\n",
       "    </tr>\n",
       "    <tr>\n",
       "      <th>3</th>\n",
       "      <td>Male</td>\n",
       "      <td>71.730978</td>\n",
       "      <td>220.042470</td>\n",
       "    </tr>\n",
       "    <tr>\n",
       "      <th>4</th>\n",
       "      <td>Male</td>\n",
       "      <td>69.881796</td>\n",
       "      <td>206.349801</td>\n",
       "    </tr>\n",
       "  </tbody>\n",
       "</table>\n",
       "</div>"
      ],
      "text/plain": [
       "  Gender     Height      Weight\n",
       "0   Male  73.847017  241.893563\n",
       "1   Male  68.781904  162.310473\n",
       "2   Male  74.110105  212.740856\n",
       "3   Male  71.730978  220.042470\n",
       "4   Male  69.881796  206.349801"
      ]
     },
     "execution_count": 22,
     "metadata": {},
     "output_type": "execute_result"
    }
   ],
   "source": [
    "df.head()"
   ]
  },
  {
   "cell_type": "code",
   "execution_count": 23,
   "metadata": {},
   "outputs": [
    {
     "data": {
      "text/plain": [
       "<matplotlib.axes._subplots.AxesSubplot at 0x118e6aad0>"
      ]
     },
     "execution_count": 23,
     "metadata": {},
     "output_type": "execute_result"
    },
    {
     "data": {
      "image/png": "[encoded data removed]",
      "text/plain": [
       "<matplotlib.figure.Figure at 0x104a4db50>"
      ]
     },
     "metadata": {},
     "output_type": "display_data"
    }
   ],
   "source": [
    "df.plot(kind='scatter',\n",
    "        x='Height',\n",
    "        y='Weight',\n",
    "        title='Weight and Height in adults')"
   ]
  },
  {
   "cell_type": "code",
   "execution_count": 24,
   "metadata": {
    "collapsed": true
   },
   "outputs": [],
   "source": [
    "X = df[['Height']].values\n",
    "y_true = df['Weight'].values"
   ]
  },
  {
   "cell_type": "code",
   "execution_count": 25,
   "metadata": {},
   "outputs": [
    {
     "data": {
      "text/plain": [
       "array([ 241.89356318,  162.31047252,  212.74085556, ...,  128.47531878,\n",
       "        163.85246135,  113.64910268])"
      ]
     },
     "execution_count": 25,
     "metadata": {},
     "output_type": "execute_result"
    }
   ],
   "source": [
    "y_true"
   ]
  },
  {
   "cell_type": "markdown",
   "metadata": {},
   "source": [
    "## Linear Regression with Keras"
   ]
  },
  {
   "cell_type": "code",
   "execution_count": 7,
   "metadata": {},
   "outputs": [
    {
     "name": "stderr",
     "output_type": "stream",
     "text": [
      "Using TensorFlow backend.\n"
     ]
    }
   ],
   "source": [
    "from keras.models import Sequential\n",
    "from keras.layers import Dense\n",
    "from keras.optimizers import Adam, SGD"
   ]
  },
  {
   "cell_type": "code",
   "execution_count": 8,
   "metadata": {
    "collapsed": true
   },
   "outputs": [],
   "source": [
    "model = Sequential()"
   ]
  },
  {
   "cell_type": "code",
   "execution_count": 9,
   "metadata": {
    "collapsed": true
   },
   "outputs": [],
   "source": [
    "model.add(Dense(1, input_shape=(1,)))"
   ]
  },
  {
   "cell_type": "code",
   "execution_count": 10,
   "metadata": {},
   "outputs": [
    {
     "name": "stdout",
     "output_type": "stream",
     "text": [
      "____________________________________________________________________________________________________\n",
      "Layer (type)                     Output Shape          Param #     Connected to                     \n",
      "====================================================================================================\n",
      "dense_1 (Dense)                  (None, 1)             2           dense_input_1[0][0]              \n",
      "====================================================================================================\n",
      "Total params: 2\n",
      "Trainable params: 2\n",
      "Non-trainable params: 0\n",
      "____________________________________________________________________________________________________\n"
     ]
    }
   ],
   "source": [
    "model.summary()"
   ]
  },
  {
   "cell_type": "code",
   "execution_count": 11,
   "metadata": {
    "collapsed": true
   },
   "outputs": [],
   "source": [
    "model.compile(Adam(lr=0.8), 'mean_squared_error')"
   ]
  },
  {
   "cell_type": "code",
   "execution_count": 14,
   "metadata": {},
   "outputs": [
    {
     "name": "stdout",
     "output_type": "stream",
     "text": [
      "Epoch 1/40\n",
      "10000/10000 [==============================] - 0s - loss: 1145.1291     \n",
      "Epoch 2/40\n",
      "10000/10000 [==============================] - 0s - loss: 570.4486     \n",
      "Epoch 3/40\n",
      "10000/10000 [==============================] - 0s - loss: 537.1570     \n",
      "Epoch 4/40\n",
      "10000/10000 [==============================] - 0s - loss: 487.5497     \n",
      "Epoch 5/40\n",
      "10000/10000 [==============================] - 0s - loss: 451.8404     \n",
      "Epoch 6/40\n",
      "10000/10000 [==============================] - 0s - loss: 413.3019     \n",
      "Epoch 7/40\n",
      "10000/10000 [==============================] - 0s - loss: 363.5247     \n",
      "Epoch 8/40\n",
      "10000/10000 [==============================] - 0s - loss: 348.4375     \n",
      "Epoch 9/40\n",
      "10000/10000 [==============================] - 0s - loss: 316.8735     \n",
      "Epoch 10/40\n",
      "10000/10000 [==============================] - 0s - loss: 274.5264     \n",
      "Epoch 11/40\n",
      "10000/10000 [==============================] - 0s - loss: 261.1027     \n",
      "Epoch 12/40\n",
      "10000/10000 [==============================] - 0s - loss: 247.2205     \n",
      "Epoch 13/40\n",
      "10000/10000 [==============================] - 0s - loss: 226.4734     \n",
      "Epoch 14/40\n",
      "10000/10000 [==============================] - 0s - loss: 215.9979     \n",
      "Epoch 15/40\n",
      "10000/10000 [==============================] - 0s - loss: 214.4993     \n",
      "Epoch 16/40\n",
      "10000/10000 [==============================] - 0s - loss: 204.4583     \n",
      "Epoch 17/40\n",
      "10000/10000 [==============================] - 0s - loss: 197.9880     \n",
      "Epoch 18/40\n",
      "10000/10000 [==============================] - 0s - loss: 190.1330     \n",
      "Epoch 19/40\n",
      "10000/10000 [==============================] - 0s - loss: 185.9254     \n",
      "Epoch 20/40\n",
      "10000/10000 [==============================] - 0s - loss: 181.7126     \n",
      "Epoch 21/40\n",
      "10000/10000 [==============================] - 0s - loss: 183.0471     \n",
      "Epoch 22/40\n",
      "10000/10000 [==============================] - 0s - loss: 182.6531     \n",
      "Epoch 23/40\n",
      "10000/10000 [==============================] - 0s - loss: 182.7361     \n",
      "Epoch 24/40\n",
      "10000/10000 [==============================] - 0s - loss: 173.8320     \n",
      "Epoch 25/40\n",
      "10000/10000 [==============================] - 0s - loss: 190.4761     \n",
      "Epoch 26/40\n",
      "10000/10000 [==============================] - 0s - loss: 173.6868     \n",
      "Epoch 27/40\n",
      "10000/10000 [==============================] - 0s - loss: 189.2897     \n",
      "Epoch 28/40\n",
      "10000/10000 [==============================] - 0s - loss: 179.0278     \n",
      "Epoch 29/40\n",
      "10000/10000 [==============================] - 0s - loss: 182.5994     \n",
      "Epoch 30/40\n",
      "10000/10000 [==============================] - 0s - loss: 176.6417     \n",
      "Epoch 31/40\n",
      "10000/10000 [==============================] - 0s - loss: 179.3517     \n",
      "Epoch 32/40\n",
      "10000/10000 [==============================] - 0s - loss: 186.2035     \n",
      "Epoch 33/40\n",
      "10000/10000 [==============================] - 0s - loss: 168.3698     \n",
      "Epoch 34/40\n",
      "10000/10000 [==============================] - 0s - loss: 179.1771     \n",
      "Epoch 35/40\n",
      "10000/10000 [==============================] - 0s - loss: 189.9426     \n",
      "Epoch 36/40\n",
      "10000/10000 [==============================] - 0s - loss: 185.4500     \n",
      "Epoch 37/40\n",
      "10000/10000 [==============================] - 0s - loss: 177.6559     \n",
      "Epoch 38/40\n",
      "10000/10000 [==============================] - 0s - loss: 184.5614     \n",
      "Epoch 39/40\n",
      "10000/10000 [==============================] - 0s - loss: 178.9413     \n",
      "Epoch 40/40\n",
      "10000/10000 [==============================] - 0s - loss: 185.2731     \n"
     ]
    },
    {
     "data": {
      "text/plain": [
       "<keras.callbacks.History at 0x12039cc90>"
      ]
     },
     "execution_count": 14,
     "metadata": {},
     "output_type": "execute_result"
    }
   ],
   "source": [
    "#model.fit(X, y_true, epochs=40)\n",
    "model.fit(X, y_true, nb_epoch=40)"
   ]
  },
  {
   "cell_type": "code",
   "execution_count": 15,
   "metadata": {
    "collapsed": true
   },
   "outputs": [],
   "source": [
    "y_pred = model.predict(X).ravel()"
   ]
  },
  {
   "cell_type": "code",
   "execution_count": 16,
   "metadata": {},
   "outputs": [
    {
     "data": {
      "text/plain": [
       "[<matplotlib.lines.Line2D at 0x120495f90>]"
      ]
     },
     "execution_count": 16,
     "metadata": {},
     "output_type": "execute_result"
    },
    {
     "data": {
      "image/png": "[encoded data removed]",
      "text/plain": [
       "<matplotlib.figure.Figure at 0x120495b10>"
      ]
     },
     "metadata": {},
     "output_type": "display_data"
    }
   ],
   "source": [
    "df.plot(kind='scatter',\n",
    "        x='Height',\n",
    "        y='Weight',\n",
    "        title='Weight and Height in adults')\n",
    "plt.plot(X, y_pred, color='red')"
   ]
  },
  {
   "cell_type": "code",
   "execution_count": 17,
   "metadata": {
    "collapsed": true
   },
   "outputs": [],
   "source": [
    "W, B = model.get_weights()"
   ]
  },
  {
   "cell_type": "code",
   "execution_count": 18,
   "metadata": {},
   "outputs": [
    {
     "data": {
      "text/plain": [
       "array([[ 7.78173113]], dtype=float32)"
      ]
     },
     "execution_count": 18,
     "metadata": {},
     "output_type": "execute_result"
    }
   ],
   "source": [
    "W"
   ]
  },
  {
   "cell_type": "code",
   "execution_count": 19,
   "metadata": {},
   "outputs": [
    {
     "data": {
      "text/plain": [
       "array([-348.06774902], dtype=float32)"
      ]
     },
     "execution_count": 19,
     "metadata": {},
     "output_type": "execute_result"
    }
   ],
   "source": [
    "B"
   ]
  },
  {
   "cell_type": "markdown",
   "metadata": {},
   "source": [
    "### Save Keras Model\n"
   ]
  },
  {
   "cell_type": "code",
   "execution_count": 20,
   "metadata": {},
   "outputs": [
    {
     "name": "stdout",
     "output_type": "stream",
     "text": [
      "____________________________________________________________________________________________________\n",
      "Layer (type)                     Output Shape          Param #     Connected to                     \n",
      "====================================================================================================\n",
      "dense_1 (Dense)                  (None, 1)             2           dense_input_1[0][0]              \n",
      "====================================================================================================\n",
      "Total params: 2\n",
      "Trainable params: 2\n",
      "Non-trainable params: 0\n",
      "____________________________________________________________________________________________________\n"
     ]
    }
   ],
   "source": [
    "model.summary()"
   ]
  },
  {
   "cell_type": "code",
   "execution_count": 28,
   "metadata": {
    "collapsed": true
   },
   "outputs": [],
   "source": [
    "model.save('HeightWeight_model.h5')"
   ]
  },
  {
   "cell_type": "markdown",
   "metadata": {},
   "source": [
    "### Export Model using CoreML Tools\n"
   ]
  },
  {
   "cell_type": "code",
   "execution_count": null,
   "metadata": {
    "collapsed": true
   },
   "outputs": [],
   "source": []
  },
  {
   "cell_type": "code",
   "execution_count": 2,
   "metadata": {},
   "outputs": [
    {
     "name": "stderr",
     "output_type": "stream",
     "text": [
      "Using TensorFlow backend.\n"
     ]
    }
   ],
   "source": [
    "from keras.models import load_model  \n",
    "model = load_model('HeightWeight_model.h5')  "
   ]
  },
  {
   "cell_type": "code",
   "execution_count": 3,
   "metadata": {
    "collapsed": true
   },
   "outputs": [],
   "source": [
    "import coremltools"
   ]
  },
  {
   "cell_type": "code",
   "execution_count": 6,
   "metadata": {},
   "outputs": [
    {
     "name": "stdout",
     "output_type": "stream",
     "text": [
      "0 : dense_input_1, <keras.engine.topology.InputLayer object at 0x10c1b3ed0>\n",
      "1 : dense_1, <keras.layers.core.Dense object at 0x10c1b3e50>\n"
     ]
    }
   ],
   "source": [
    "coreml_model = coremltools.converters.keras.convert(model, input_names=\"height\", output_names=\"weight\")"
   ]
  },
  {
   "cell_type": "code",
   "execution_count": 32,
   "metadata": {
    "collapsed": true
   },
   "outputs": [],
   "source": [
    "coreml_model.save('HeightWeight_model.mlmodel')"
   ]
  },
  {
   "cell_type": "code",
   "execution_count": 4,
   "metadata": {},
   "outputs": [],
   "source": [
    "?coremltools.converters.keras.convert()"
   ]
  },
  {
   "cell_type": "markdown",
   "metadata": {},
   "source": [
    "### Test CoreML Model"
   ]
  },
  {
   "cell_type": "code",
   "execution_count": 13,
   "metadata": {},
   "outputs": [
    {
     "data": {
      "text/plain": [
       "input {\n",
       "  name: \"height\"\n",
       "  type {\n",
       "    multiArrayType {\n",
       "      shape: 1\n",
       "      dataType: DOUBLE\n",
       "    }\n",
       "  }\n",
       "}\n",
       "output {\n",
       "  name: \"weight\"\n",
       "  type {\n",
       "    multiArrayType {\n",
       "      shape: 1\n",
       "      dataType: DOUBLE\n",
       "    }\n",
       "  }\n",
       "}"
      ]
     },
     "execution_count": 13,
     "metadata": {},
     "output_type": "execute_result"
    }
   ],
   "source": [
    "coreml_model"
   ]
  },
  {
   "cell_type": "code",
   "execution_count": 33,
   "metadata": {},
   "outputs": [
    {
     "data": {
      "text/plain": [
       "{u'weight': array([ 223.55422974])}"
      ]
     },
     "execution_count": 33,
     "metadata": {},
     "output_type": "execute_result"
    }
   ],
   "source": [
    "coreml_model.predict({'height' : [73.84]})"
   ]
  },
  {
   "cell_type": "code",
   "execution_count": null,
   "metadata": {
    "collapsed": true
   },
   "outputs": [],
   "source": []
  },
  {
   "cell_type": "code",
   "execution_count": null,
   "metadata": {
    "collapsed": true
   },
   "outputs": [],
   "source": []
  }
 ],
 "metadata": {
  "kernelspec": {
   "display_name": "Python 2",
   "language": "python",
   "name": "python2"
  },
  "language_info": {
   "codemirror_mode": {
    "name": "ipython",
    "version": 2
   },
   "file_extension": ".py",
   "mimetype": "text/x-python",
   "name": "python",
   "nbconvert_exporter": "python",
   "pygments_lexer": "ipython2",
   "version": "2.7.13"
  }
 },
 "nbformat": 4,
 "nbformat_minor": 2
}
